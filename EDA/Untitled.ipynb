{
 "cells": [
  {
   "cell_type": "code",
   "execution_count": 5,
   "metadata": {},
   "outputs": [],
   "source": [
    "import numpy as np\n",
    "import pandas as pd"
   ]
  },
  {
   "cell_type": "code",
   "execution_count": 6,
   "metadata": {},
   "outputs": [
    {
     "name": "stderr",
     "output_type": "stream",
     "text": [
      "/anaconda3/lib/python3.6/site-packages/IPython/core/interactiveshell.py:2728: DtypeWarning: Columns (1,3,4,9,10,11,17,19,20,34,45,46,47,48,50,51,52,53,54,55,56) have mixed types. Specify dtype option on import or set low_memory=False.\n",
      "  interactivity=interactivity, compiler=compiler, result=result)\n"
     ]
    }
   ],
   "source": [
    "df = pd.read_csv('datathon_propattributes.csv')"
   ]
  },
  {
   "cell_type": "code",
   "execution_count": 7,
   "metadata": {},
   "outputs": [],
   "source": [
    "df.dropna(subset=['dwelling_type'], how='any', inplace=True)"
   ]
  },
  {
   "cell_type": "code",
   "execution_count": 8,
   "metadata": {},
   "outputs": [],
   "source": [
    "value_counts = df.dwelling_type.value_counts()"
   ]
  },
  {
   "cell_type": "code",
   "execution_count": 9,
   "metadata": {},
   "outputs": [],
   "source": [
    "def filterByType(dwelling_type):\n",
    "    if value_counts[dwelling_type] > 6000:\n",
    "        return True\n",
    "    else:\n",
    "        return False"
   ]
  },
  {
   "cell_type": "code",
   "execution_count": 10,
   "metadata": {},
   "outputs": [
    {
     "name": "stdout",
     "output_type": "stream",
     "text": [
      "True\n"
     ]
    }
   ],
   "source": [
    "print(filterByType('Single Family Residential'))"
   ]
  },
  {
   "cell_type": "code",
   "execution_count": 11,
   "metadata": {},
   "outputs": [
    {
     "name": "stdout",
     "output_type": "stream",
     "text": [
      "[ True False]\n"
     ]
    }
   ],
   "source": [
    "df['no_drop'] = df['dwelling_type'].apply(filterByType)\n",
    "print(df['no_drop'].unique())"
   ]
  },
  {
   "cell_type": "code",
   "execution_count": 15,
   "metadata": {},
   "outputs": [
    {
     "name": "stdout",
     "output_type": "stream",
     "text": [
      "                             dwelling_type  no_drop\n",
      "4413162          Single Family Residential     True\n",
      "4413163          Single Family Residential     True\n",
      "4413164          Single Family Residential     True\n",
      "4413165          Single Family Residential     True\n",
      "4413166          Single Family Residential     True\n",
      "4413167          Single Family Residential     True\n",
      "4413168          Single Family Residential     True\n",
      "4413169          Single Family Residential     True\n",
      "4413170          Single Family Residential     True\n",
      "4413171          Single Family Residential     True\n",
      "4413172          Single Family Residential     True\n",
      "4413173          Single Family Residential     True\n",
      "4413174          Single Family Residential     True\n",
      "4413175          Single Family Residential     True\n",
      "4413176          Single Family Residential     True\n",
      "4413177          Single Family Residential     True\n",
      "4413178          Single Family Residential     True\n",
      "4413179          Single Family Residential     True\n",
      "4413180          Single Family Residential     True\n",
      "4413181          Single Family Residential     True\n",
      "4413182          Single Family Residential     True\n",
      "4413183          Single Family Residential     True\n",
      "4413184          Single Family Residential     True\n",
      "4413185          Single Family Residential     True\n",
      "4413186          Single Family Residential     True\n",
      "4413187          Single Family Residential     True\n",
      "4413188          Single Family Residential     True\n",
      "4413189          Single Family Residential     True\n",
      "4413190          Single Family Residential     True\n",
      "4413191          Single Family Residential     True\n",
      "4413192          Single Family Residential     True\n",
      "4413193          Single Family Residential     True\n",
      "4413194          Single Family Residential     True\n",
      "4413195          Single Family Residential     True\n",
      "4413196          Single Family Residential     True\n",
      "4413197          Single Family Residential     True\n",
      "4413198          Single Family Residential     True\n",
      "4413199          Single Family Residential     True\n",
      "4413200          Single Family Residential     True\n",
      "4413201          Single Family Residential     True\n",
      "4413202          Single Family Residential     True\n",
      "4413203          Single Family Residential     True\n",
      "4413204          Single Family Residential     True\n",
      "4413205          Single Family Residential     True\n",
      "4413206          Single Family Residential     True\n",
      "4413207          Single Family Residential     True\n",
      "4413208  Duplex (2 units, any combination)     True\n",
      "4413209  Duplex (2 units, any combination)     True\n",
      "4413210          Single Family Residential     True\n",
      "4413211          Single Family Residential     True\n"
     ]
    }
   ],
   "source": [
    "print(df[['dwelling_type','no_drop']].tail(50))"
   ]
  },
  {
   "cell_type": "code",
   "execution_count": 16,
   "metadata": {},
   "outputs": [
    {
     "name": "stdout",
     "output_type": "stream",
     "text": [
      "[ True]\n"
     ]
    }
   ],
   "source": [
    "df = df.loc[df['no_drop'] == True]\n",
    "print(df['no_drop'].unique())"
   ]
  },
  {
   "cell_type": "code",
   "execution_count": 18,
   "metadata": {},
   "outputs": [
    {
     "name": "stdout",
     "output_type": "stream",
     "text": [
      "Single Family Residential                                 2725339\n",
      "Condominium (Residential)                                  449921\n",
      "Row house (Residential)                                    265099\n",
      "Residential-Vacant Land                                    160398\n",
      "Duplex (2 units, any combination)                          149246\n",
      "Triplex (3 units, any combination)                          57597\n",
      "Townhouse (Residential)                                     53960\n",
      "Apartments (generic)                                        47786\n",
      "Residential (General) (Single)                              42717\n",
      "Vacant Land (General)                                       40361\n",
      "Commercial/Office/Residential Mixed Use                     33737\n",
      "Mobile home                                                 28028\n",
      "Multi-Family Dwellings (Generic, 2+)                        24179\n",
      "Commercial (General)                                        22865\n",
      "Rural Residence (Agricultural)                              22348\n",
      "Unusable Land (Remnant, Steep, etc.)                        17385\n",
      "Retail Stores (Personal Services, Photography, Travel)      16302\n",
      "Exempt (full or partial)                                    15068\n",
      "Commercial-Vacant Land                                      14812\n",
      "Office Bldg (General)                                       12377\n",
      "Agricultural-Unimproved Vacant Land                         12111\n",
      "Agricultural / Rural                                        11308\n",
      "Misc. Structures - Ranch, Farm, Fixtures                     9103\n",
      "Warehouse (Industrial)                                       8781\n",
      "Commercial Building                                          8059\n",
      "Seasonal, Cabin, Vacation Residence                          7662\n",
      "Condominium Offices                                          7522\n",
      "Miscellaneous (General)                                      7161\n",
      "Misc Residential Improvement                                 6307\n",
      "Restaurant                                                   6256\n",
      "Name: dwelling_type, dtype: int64\n"
     ]
    }
   ],
   "source": [
    "print(df.dwelling_type.value_counts())"
   ]
  },
  {
   "cell_type": "code",
   "execution_count": 25,
   "metadata": {},
   "outputs": [],
   "source": [
    "df.drop('style', axis=1, inplace=True)"
   ]
  },
  {
   "cell_type": "code",
   "execution_count": 26,
   "metadata": {},
   "outputs": [
    {
     "data": {
      "text/plain": [
       "(4283795, 73)"
      ]
     },
     "execution_count": 26,
     "metadata": {},
     "output_type": "execute_result"
    }
   ],
   "source": [
    "df.shape"
   ]
  },
  {
   "cell_type": "code",
   "execution_count": 29,
   "metadata": {},
   "outputs": [],
   "source": [
    "slicedData = df.loc[df.IsTraining != 0]\n",
    "slicedData.to_csv('training_data.csv')"
   ]
  },
  {
   "cell_type": "code",
   "execution_count": null,
   "metadata": {},
   "outputs": [],
   "source": []
  }
 ],
 "metadata": {
  "kernelspec": {
   "display_name": "Python 3",
   "language": "python",
   "name": "python3"
  },
  "language_info": {
   "codemirror_mode": {
    "name": "ipython",
    "version": 3
   },
   "file_extension": ".py",
   "mimetype": "text/x-python",
   "name": "python",
   "nbconvert_exporter": "python",
   "pygments_lexer": "ipython3",
   "version": "3.6.4"
  }
 },
 "nbformat": 4,
 "nbformat_minor": 2
}
